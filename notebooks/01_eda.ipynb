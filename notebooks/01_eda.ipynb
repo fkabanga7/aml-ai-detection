import pandas as pd
import seaborn as sns
import matplotlib.pyplot as plt

df = pd.read_csv("data/processed/features_paysim.csv")

# 1. Fraud class distribution
sns.countplot(data=df, x='isFraud')
plt.title("Fraud vs. Legit Transactions")
plt.show()

# 2. Amount distribution
sns.histplot(data=df, x='amount', bins=50, hue='isFraud', log_scale=True)
plt.title("Transaction Amounts")
plt.show()

# 3. Hour of day vs fraud
sns.boxplot(data=df, x='hour', y='amount', hue='isFraud')
plt.title("Fraud by Hour of Day")
plt.show()

# 4. Correlation heatmap
plt.figure(figsize=(10,6))
sns.heatmap(df.corr(numeric_only=True), annot=True, cmap="coolwarm")
plt.title("Feature Correlations")
plt.show()
